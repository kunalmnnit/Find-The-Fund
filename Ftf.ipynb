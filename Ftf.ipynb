{
  "nbformat": 4,
  "nbformat_minor": 0,
  "metadata": {
    "kernelspec": {
      "display_name": "Python 3",
      "language": "python",
      "name": "python3"
    },
    "language_info": {
      "codemirror_mode": {
        "name": "ipython",
        "version": 3
      },
      "file_extension": ".py",
      "mimetype": "text/x-python",
      "name": "python",
      "nbconvert_exporter": "python",
      "pygments_lexer": "ipython3",
      "version": "3.7.1"
    },
    "colab": {
      "name": "Ftf.ipynb",
      "version": "0.3.2",
      "provenance": []
    }
  },
  "cells": [
    {
      "cell_type": "markdown",
      "metadata": {
        "id": "8MmNgTetih1b",
        "colab_type": "text"
      },
      "source": [
        "# Importing libraries "
      ]
    },
    {
      "cell_type": "code",
      "metadata": {
        "id": "PawjGKRZih1h",
        "colab_type": "code",
        "colab": {}
      },
      "source": [
        "import numpy as np\n",
        "import matplotlib.pyplot as plt\n",
        "import pandas as pd\n",
        "from xgboost import XGBClassifier\n",
        "from sklearn.metrics import accuracy_score\n",
        "import seaborn as sns\n",
        "import missingno"
      ],
      "execution_count": 0,
      "outputs": []
    },
    {
      "cell_type": "markdown",
      "metadata": {
        "id": "U6rROGi2ih1q",
        "colab_type": "text"
      },
      "source": [
        "# Importing the dataset"
      ]
    },
    {
      "cell_type": "code",
      "metadata": {
        "id": "4Dto8NiTih1t",
        "colab_type": "code",
        "colab": {},
        "outputId": "76a9413d-da6f-4e3b-ae2b-0a0f5c2a4f25"
      },
      "source": [
        "train_set = pd.read_csv('/content/drive/My Drive/train.csv')\n",
        "test_set = pd.read_csv('/content/drive/My Drive/test.csv')\n",
        "#viewing the training data\n",
        "train_set.head()"
      ],
      "execution_count": 0,
      "outputs": [
        {
          "output_type": "stream",
          "text": [
            "/home/ankit/anaconda3/lib/python3.7/site-packages/IPython/core/interactiveshell.py:3020: DtypeWarning: Columns (10,11,14,16,17,20,21) have mixed types. Specify dtype option on import or set low_memory=False.\n",
            "  interactivity=interactivity, compiler=compiler, result=result)\n"
          ],
          "name": "stderr"
        },
        {
          "output_type": "execute_result",
          "data": {
            "text/html": [
              "<div>\n",
              "<style scoped>\n",
              "    .dataframe tbody tr th:only-of-type {\n",
              "        vertical-align: middle;\n",
              "    }\n",
              "\n",
              "    .dataframe tbody tr th {\n",
              "        vertical-align: top;\n",
              "    }\n",
              "\n",
              "    .dataframe thead th {\n",
              "        text-align: right;\n",
              "    }\n",
              "</style>\n",
              "<table border=\"1\" class=\"dataframe\">\n",
              "  <thead>\n",
              "    <tr style=\"text-align: right;\">\n",
              "      <th></th>\n",
              "      <th>ID</th>\n",
              "      <th>comp_name</th>\n",
              "      <th>website</th>\n",
              "      <th>op_status</th>\n",
              "      <th>domain</th>\n",
              "      <th>founded_on</th>\n",
              "      <th>hq_country_code</th>\n",
              "      <th>hq_state_code</th>\n",
              "      <th>hq_region</th>\n",
              "      <th>hq_city</th>\n",
              "      <th>...</th>\n",
              "      <th>last_funding_utc</th>\n",
              "      <th>successful_investment</th>\n",
              "      <th>Unnamed: 19</th>\n",
              "      <th>Unnamed: 20</th>\n",
              "      <th>Unnamed: 21</th>\n",
              "      <th>Unnamed: 22</th>\n",
              "      <th>Unnamed: 23</th>\n",
              "      <th>Unnamed: 24</th>\n",
              "      <th>Unnamed: 25</th>\n",
              "      <th>Unnamed: 26</th>\n",
              "    </tr>\n",
              "  </thead>\n",
              "  <tbody>\n",
              "    <tr>\n",
              "      <th>0</th>\n",
              "      <td>0</td>\n",
              "      <td>Nanotecture</td>\n",
              "      <td>http://www.nanotecture.co.uk</td>\n",
              "      <td>closed</td>\n",
              "      <td>Nanotechnology</td>\n",
              "      <td>NaN</td>\n",
              "      <td>GBR</td>\n",
              "      <td>M4</td>\n",
              "      <td>London</td>\n",
              "      <td>Southampton</td>\n",
              "      <td>...</td>\n",
              "      <td>12907</td>\n",
              "      <td>0</td>\n",
              "      <td>NaN</td>\n",
              "      <td>NaN</td>\n",
              "      <td>NaN</td>\n",
              "      <td>NaN</td>\n",
              "      <td>NaN</td>\n",
              "      <td>NaN</td>\n",
              "      <td>NaN</td>\n",
              "      <td>NaN</td>\n",
              "    </tr>\n",
              "    <tr>\n",
              "      <th>1</th>\n",
              "      <td>1</td>\n",
              "      <td>Sybari</td>\n",
              "      <td>http://www.sybari.com</td>\n",
              "      <td>acquired</td>\n",
              "      <td>Email|Security|Software</td>\n",
              "      <td>1995-01-01</td>\n",
              "      <td>USA</td>\n",
              "      <td>NY</td>\n",
              "      <td>Long Island</td>\n",
              "      <td>East Northport</td>\n",
              "      <td>...</td>\n",
              "      <td>11411</td>\n",
              "      <td>1</td>\n",
              "      <td>NaN</td>\n",
              "      <td>NaN</td>\n",
              "      <td>NaN</td>\n",
              "      <td>NaN</td>\n",
              "      <td>NaN</td>\n",
              "      <td>NaN</td>\n",
              "      <td>NaN</td>\n",
              "      <td>NaN</td>\n",
              "    </tr>\n",
              "    <tr>\n",
              "      <th>2</th>\n",
              "      <td>2</td>\n",
              "      <td>Futurederm</td>\n",
              "      <td>http://www.futurederm.com</td>\n",
              "      <td>operating</td>\n",
              "      <td>Beauty|Cosmetics|E-Commerce|Social Media</td>\n",
              "      <td>2009-06-07</td>\n",
              "      <td>USA</td>\n",
              "      <td>PA</td>\n",
              "      <td>Pittsburgh</td>\n",
              "      <td>Pittsburgh</td>\n",
              "      <td>...</td>\n",
              "      <td>16217</td>\n",
              "      <td>0</td>\n",
              "      <td>NaN</td>\n",
              "      <td>NaN</td>\n",
              "      <td>NaN</td>\n",
              "      <td>NaN</td>\n",
              "      <td>NaN</td>\n",
              "      <td>NaN</td>\n",
              "      <td>NaN</td>\n",
              "      <td>NaN</td>\n",
              "    </tr>\n",
              "    <tr>\n",
              "      <th>3</th>\n",
              "      <td>3</td>\n",
              "      <td>Mercora</td>\n",
              "      <td>http://mercora.com</td>\n",
              "      <td>closed</td>\n",
              "      <td>Curated Web</td>\n",
              "      <td>NaN</td>\n",
              "      <td>USA</td>\n",
              "      <td>CA</td>\n",
              "      <td>SF Bay Area</td>\n",
              "      <td>Sunnyvale</td>\n",
              "      <td>...</td>\n",
              "      <td>12784</td>\n",
              "      <td>0</td>\n",
              "      <td>NaN</td>\n",
              "      <td>NaN</td>\n",
              "      <td>NaN</td>\n",
              "      <td>NaN</td>\n",
              "      <td>NaN</td>\n",
              "      <td>NaN</td>\n",
              "      <td>NaN</td>\n",
              "      <td>NaN</td>\n",
              "    </tr>\n",
              "    <tr>\n",
              "      <th>4</th>\n",
              "      <td>4</td>\n",
              "      <td>Datos IO</td>\n",
              "      <td>http://www.datos.io</td>\n",
              "      <td>operating</td>\n",
              "      <td>Big Data|Cloud Computing|Databases|Enterprise ...</td>\n",
              "      <td>2014-06-01</td>\n",
              "      <td>USA</td>\n",
              "      <td>CA</td>\n",
              "      <td>SF Bay Area</td>\n",
              "      <td>San Jose</td>\n",
              "      <td>...</td>\n",
              "      <td>16693</td>\n",
              "      <td>0</td>\n",
              "      <td>NaN</td>\n",
              "      <td>NaN</td>\n",
              "      <td>NaN</td>\n",
              "      <td>NaN</td>\n",
              "      <td>NaN</td>\n",
              "      <td>NaN</td>\n",
              "      <td>NaN</td>\n",
              "      <td>NaN</td>\n",
              "    </tr>\n",
              "  </tbody>\n",
              "</table>\n",
              "<p>5 rows × 27 columns</p>\n",
              "</div>"
            ],
            "text/plain": [
              "   ID    comp_name                       website  op_status  \\\n",
              "0   0  Nanotecture  http://www.nanotecture.co.uk     closed   \n",
              "1   1       Sybari         http://www.sybari.com   acquired   \n",
              "2   2   Futurederm     http://www.futurederm.com  operating   \n",
              "3   3      Mercora            http://mercora.com     closed   \n",
              "4   4     Datos IO           http://www.datos.io  operating   \n",
              "\n",
              "                                              domain  founded_on  \\\n",
              "0                                     Nanotechnology         NaN   \n",
              "1                            Email|Security|Software  1995-01-01   \n",
              "2           Beauty|Cosmetics|E-Commerce|Social Media  2009-06-07   \n",
              "3                                        Curated Web         NaN   \n",
              "4  Big Data|Cloud Computing|Databases|Enterprise ...  2014-06-01   \n",
              "\n",
              "  hq_country_code hq_state_code    hq_region         hq_city     ...       \\\n",
              "0             GBR            M4       London     Southampton     ...        \n",
              "1             USA            NY  Long Island  East Northport     ...        \n",
              "2             USA            PA   Pittsburgh      Pittsburgh     ...        \n",
              "3             USA            CA  SF Bay Area       Sunnyvale     ...        \n",
              "4             USA            CA  SF Bay Area        San Jose     ...        \n",
              "\n",
              "  last_funding_utc successful_investment Unnamed: 19 Unnamed: 20 Unnamed: 21  \\\n",
              "0            12907                     0         NaN         NaN         NaN   \n",
              "1            11411                     1         NaN         NaN         NaN   \n",
              "2            16217                     0         NaN         NaN         NaN   \n",
              "3            12784                     0         NaN         NaN         NaN   \n",
              "4            16693                     0         NaN         NaN         NaN   \n",
              "\n",
              "   Unnamed: 22 Unnamed: 23 Unnamed: 24  Unnamed: 25  Unnamed: 26  \n",
              "0          NaN         NaN         NaN          NaN          NaN  \n",
              "1          NaN         NaN         NaN          NaN          NaN  \n",
              "2          NaN         NaN         NaN          NaN          NaN  \n",
              "3          NaN         NaN         NaN          NaN          NaN  \n",
              "4          NaN         NaN         NaN          NaN          NaN  \n",
              "\n",
              "[5 rows x 27 columns]"
            ]
          },
          "metadata": {
            "tags": []
          },
          "execution_count": 33
        }
      ]
    },
    {
      "cell_type": "code",
      "metadata": {
        "id": "ZjZ13rVgih13",
        "colab_type": "code",
        "colab": {},
        "outputId": "6e4a1205-0190-4668-ee41-b259d9a0fa9b"
      },
      "source": [
        "#viewing the test data\n",
        "test_set.head()"
      ],
      "execution_count": 0,
      "outputs": [
        {
          "output_type": "execute_result",
          "data": {
            "text/html": [
              "<div>\n",
              "<style scoped>\n",
              "    .dataframe tbody tr th:only-of-type {\n",
              "        vertical-align: middle;\n",
              "    }\n",
              "\n",
              "    .dataframe tbody tr th {\n",
              "        vertical-align: top;\n",
              "    }\n",
              "\n",
              "    .dataframe thead th {\n",
              "        text-align: right;\n",
              "    }\n",
              "</style>\n",
              "<table border=\"1\" class=\"dataframe\">\n",
              "  <thead>\n",
              "    <tr style=\"text-align: right;\">\n",
              "      <th></th>\n",
              "      <th>ID</th>\n",
              "      <th>comp_name</th>\n",
              "      <th>website</th>\n",
              "      <th>op_status</th>\n",
              "      <th>domain</th>\n",
              "      <th>founded_on</th>\n",
              "      <th>hq_country_code</th>\n",
              "      <th>hq_state_code</th>\n",
              "      <th>hq_region</th>\n",
              "      <th>hq_city</th>\n",
              "      <th>total_funding_usd</th>\n",
              "      <th>funding_rounds</th>\n",
              "      <th>first_funding_date</th>\n",
              "      <th>last_funding_date</th>\n",
              "      <th>num_investors</th>\n",
              "      <th>funding_duration</th>\n",
              "      <th>first_funding_utc</th>\n",
              "      <th>last_funding_utc</th>\n",
              "      <th>Unnamed: 18</th>\n",
              "    </tr>\n",
              "  </thead>\n",
              "  <tbody>\n",
              "    <tr>\n",
              "      <th>0</th>\n",
              "      <td>0</td>\n",
              "      <td>MDLIVE</td>\n",
              "      <td>http://mdlive.com</td>\n",
              "      <td>operating</td>\n",
              "      <td>Health Care</td>\n",
              "      <td>2009-01-01</td>\n",
              "      <td>USA</td>\n",
              "      <td>FL</td>\n",
              "      <td>Ft. Lauderdale</td>\n",
              "      <td>Fort Lauderdale</td>\n",
              "      <td>73600000</td>\n",
              "      <td>2</td>\n",
              "      <td>2014-01-22</td>\n",
              "      <td>2015-06-24</td>\n",
              "      <td>5</td>\n",
              "      <td>518</td>\n",
              "      <td>16092</td>\n",
              "      <td>16610</td>\n",
              "      <td>NaN</td>\n",
              "    </tr>\n",
              "    <tr>\n",
              "      <th>1</th>\n",
              "      <td>1</td>\n",
              "      <td>APX Labs</td>\n",
              "      <td>http://apx-labs.com</td>\n",
              "      <td>operating</td>\n",
              "      <td>Software</td>\n",
              "      <td>2010-01-01</td>\n",
              "      <td>USA</td>\n",
              "      <td>VA</td>\n",
              "      <td>Washington, D.C.</td>\n",
              "      <td>Herndon</td>\n",
              "      <td>28612936</td>\n",
              "      <td>3</td>\n",
              "      <td>2014-04-02</td>\n",
              "      <td>2015-11-18</td>\n",
              "      <td>7</td>\n",
              "      <td>595</td>\n",
              "      <td>16162</td>\n",
              "      <td>16757</td>\n",
              "      <td>NaN</td>\n",
              "    </tr>\n",
              "    <tr>\n",
              "      <th>2</th>\n",
              "      <td>2</td>\n",
              "      <td>9Cookies</td>\n",
              "      <td>http://www.9cookies.com/</td>\n",
              "      <td>acquired</td>\n",
              "      <td>Point of Sale|Restaurants</td>\n",
              "      <td>2012-01-01</td>\n",
              "      <td>DEU</td>\n",
              "      <td>16</td>\n",
              "      <td>Berlin</td>\n",
              "      <td>Berlin</td>\n",
              "      <td>NaN</td>\n",
              "      <td>1</td>\n",
              "      <td>2013-04-18</td>\n",
              "      <td>2013-04-18</td>\n",
              "      <td>1</td>\n",
              "      <td>0</td>\n",
              "      <td>15813</td>\n",
              "      <td>15813</td>\n",
              "      <td>NaN</td>\n",
              "    </tr>\n",
              "    <tr>\n",
              "      <th>3</th>\n",
              "      <td>3</td>\n",
              "      <td>Confluence Solar</td>\n",
              "      <td>http://www.confluencesolar.com</td>\n",
              "      <td>acquired</td>\n",
              "      <td>Clean Technology</td>\n",
              "      <td>NaN</td>\n",
              "      <td>USA</td>\n",
              "      <td>MO</td>\n",
              "      <td>St. Louis</td>\n",
              "      <td>Hazelwood</td>\n",
              "      <td>12700000</td>\n",
              "      <td>1</td>\n",
              "      <td>2008-09-24</td>\n",
              "      <td>2008-09-24</td>\n",
              "      <td>3</td>\n",
              "      <td>0</td>\n",
              "      <td>14146</td>\n",
              "      <td>14146</td>\n",
              "      <td>NaN</td>\n",
              "    </tr>\n",
              "    <tr>\n",
              "      <th>4</th>\n",
              "      <td>4</td>\n",
              "      <td>Dazo</td>\n",
              "      <td>http://dazo.in</td>\n",
              "      <td>operating</td>\n",
              "      <td>Mobile</td>\n",
              "      <td>2014-01-01</td>\n",
              "      <td>IND</td>\n",
              "      <td>19</td>\n",
              "      <td>Bangalore</td>\n",
              "      <td>Bangalore</td>\n",
              "      <td>NaN</td>\n",
              "      <td>1</td>\n",
              "      <td>2015-04-01</td>\n",
              "      <td>2015-04-01</td>\n",
              "      <td>7</td>\n",
              "      <td>0</td>\n",
              "      <td>16526</td>\n",
              "      <td>16526</td>\n",
              "      <td>NaN</td>\n",
              "    </tr>\n",
              "  </tbody>\n",
              "</table>\n",
              "</div>"
            ],
            "text/plain": [
              "   ID         comp_name                         website  op_status  \\\n",
              "0   0            MDLIVE               http://mdlive.com  operating   \n",
              "1   1          APX Labs             http://apx-labs.com  operating   \n",
              "2   2          9Cookies        http://www.9cookies.com/   acquired   \n",
              "3   3  Confluence Solar  http://www.confluencesolar.com   acquired   \n",
              "4   4              Dazo                  http://dazo.in  operating   \n",
              "\n",
              "                      domain  founded_on hq_country_code hq_state_code  \\\n",
              "0                Health Care  2009-01-01             USA            FL   \n",
              "1                   Software  2010-01-01             USA            VA   \n",
              "2  Point of Sale|Restaurants  2012-01-01             DEU            16   \n",
              "3           Clean Technology         NaN             USA            MO   \n",
              "4                     Mobile  2014-01-01             IND            19   \n",
              "\n",
              "          hq_region          hq_city total_funding_usd  funding_rounds  \\\n",
              "0    Ft. Lauderdale  Fort Lauderdale          73600000               2   \n",
              "1  Washington, D.C.          Herndon          28612936               3   \n",
              "2            Berlin           Berlin               NaN               1   \n",
              "3         St. Louis        Hazelwood          12700000               1   \n",
              "4         Bangalore        Bangalore               NaN               1   \n",
              "\n",
              "  first_funding_date last_funding_date num_investors  funding_duration  \\\n",
              "0         2014-01-22        2015-06-24             5               518   \n",
              "1         2014-04-02        2015-11-18             7               595   \n",
              "2         2013-04-18        2013-04-18             1                 0   \n",
              "3         2008-09-24        2008-09-24             3                 0   \n",
              "4         2015-04-01        2015-04-01             7                 0   \n",
              "\n",
              "   first_funding_utc  last_funding_utc  Unnamed: 18  \n",
              "0              16092             16610          NaN  \n",
              "1              16162             16757          NaN  \n",
              "2              15813             15813          NaN  \n",
              "3              14146             14146          NaN  \n",
              "4              16526             16526          NaN  "
            ]
          },
          "metadata": {
            "tags": []
          },
          "execution_count": 34
        }
      ]
    },
    {
      "cell_type": "markdown",
      "metadata": {
        "id": "0d8_Ekb3ih19",
        "colab_type": "text"
      },
      "source": [
        "## Data Pre-processing "
      ]
    },
    {
      "cell_type": "code",
      "metadata": {
        "id": "xp2sP2K9ih1_",
        "colab_type": "code",
        "colab": {}
      },
      "source": [
        "#dropping the unwanted columns\n",
        "train_set = train_set.drop(columns = ['comp_name','website','founded_on','first_funding_date','last_funding_date'])\n",
        "train_set = train_set.drop(columns = ['domain','hq_country_code','hq_state_code','hq_region','hq_city'])\n"
      ],
      "execution_count": 0,
      "outputs": []
    },
    {
      "cell_type": "code",
      "metadata": {
        "id": "iDVHdVhGih2E",
        "colab_type": "code",
        "colab": {},
        "outputId": "a752f76b-475d-4052-c0f4-670f4e88ff9d"
      },
      "source": [
        "#counting the null values\n",
        "train_set.isnull().sum()"
      ],
      "execution_count": 0,
      "outputs": [
        {
          "output_type": "execute_result",
          "data": {
            "text/plain": [
              "ID                           0\n",
              "op_status                    0\n",
              "total_funding_usd         7664\n",
              "funding_rounds               1\n",
              "num_investors                0\n",
              "funding_duration             0\n",
              "first_funding_utc            0\n",
              "last_funding_utc             0\n",
              "successful_investment        0\n",
              "Unnamed: 19              40210\n",
              "Unnamed: 20              40212\n",
              "Unnamed: 21              40212\n",
              "Unnamed: 22              40212\n",
              "Unnamed: 23              40212\n",
              "Unnamed: 24              40212\n",
              "Unnamed: 25              40212\n",
              "Unnamed: 26              40212\n",
              "dtype: int64"
            ]
          },
          "metadata": {
            "tags": []
          },
          "execution_count": 36
        }
      ]
    },
    {
      "cell_type": "code",
      "metadata": {
        "id": "4u2qT7-uih2J",
        "colab_type": "code",
        "colab": {},
        "outputId": "99439c02-c993-4c11-b4c9-d49400a3b010"
      },
      "source": [
        "missingno.matrix(train_set,figsize=(30,10))"
      ],
      "execution_count": 0,
      "outputs": [
        {
          "output_type": "execute_result",
          "data": {
            "text/plain": [
              "<matplotlib.axes._subplots.AxesSubplot at 0x7f04e6ddb2e8>"
            ]
          },
          "metadata": {
            "tags": []
          },
          "execution_count": 37
        },
        {
          "output_type": "display_data",
          "data": {
            "image/png": "[encoded data removed]",
            "text/plain": [
              "<Figure size 2160x720 with 2 Axes>"
            ]
          },
          "metadata": {
            "tags": [],
            "needs_background": "light"
          }
        }
      ]
    },
    {
      "cell_type": "code",
      "metadata": {
        "id": "8ky3vHBvih2P",
        "colab_type": "code",
        "colab": {},
        "outputId": "5ab6ba47-fc44-44f6-a0bc-db87643359e7"
      },
      "source": [
        "#viewing datatypes\n",
        "train_set.dtypes"
      ],
      "execution_count": 0,
      "outputs": [
        {
          "output_type": "execute_result",
          "data": {
            "text/plain": [
              "ID                         int64\n",
              "op_status                 object\n",
              "total_funding_usd         object\n",
              "funding_rounds            object\n",
              "num_investors             object\n",
              "funding_duration           int64\n",
              "first_funding_utc         object\n",
              "last_funding_utc          object\n",
              "successful_investment      int64\n",
              "Unnamed: 19              float64\n",
              "Unnamed: 20               object\n",
              "Unnamed: 21               object\n",
              "Unnamed: 22              float64\n",
              "Unnamed: 23              float64\n",
              "Unnamed: 24              float64\n",
              "Unnamed: 25              float64\n",
              "Unnamed: 26              float64\n",
              "dtype: object"
            ]
          },
          "metadata": {
            "tags": []
          },
          "execution_count": 38
        }
      ]
    },
    {
      "cell_type": "markdown",
      "metadata": {
        "id": "XPyETNjRih2X",
        "colab_type": "text"
      },
      "source": [
        "# Target feature : successful_investment\n",
        "Description: Whether investment will be successfull or not!\n",
        "Key: 0 = not successfull , 1 = successfull\n",
        "This is the variable we want our machine learning model to predict."
      ]
    },
    {
      "cell_type": "code",
      "metadata": {
        "id": "uEWh4zuNih2Y",
        "colab_type": "code",
        "colab": {},
        "outputId": "474b1f23-1fc9-4417-8a51-864962c646f4"
      },
      "source": [
        "fig = plt.figure(figsize=(20,1))\n",
        "sns.countplot(y='successful_investment',data=train_set);\n",
        "print(train_set.successful_investment.value_counts())"
      ],
      "execution_count": 0,
      "outputs": [
        {
          "output_type": "stream",
          "text": [
            "0           34897\n",
            "1            5313\n",
            "37059448        1\n",
            "12784           1\n",
            "16570           1\n",
            "Name: successful_investment, dtype: int64\n"
          ],
          "name": "stdout"
        },
        {
          "output_type": "display_data",
          "data": {
            "image/png": "[encoded data removed]",
            "text/plain": [
              "<Figure size 1440x72 with 1 Axes>"
            ]
          },
          "metadata": {
            "tags": [],
            "needs_background": "light"
          }
        }
      ]
    },
    {
      "cell_type": "code",
      "metadata": {
        "id": "xd7DT7XZih2d",
        "colab_type": "code",
        "colab": {},
        "outputId": "1d931342-fa32-4b5f-97dc-0aca049450f9"
      },
      "source": [
        "#replacing the categorical value\n",
        "train_set = train_set.replace({'closed':0,'ipo':1,'operating':2,'acquired':3})\n",
        "#convert object datatype into float64\n",
        "train_set = train_set.convert_objects(convert_numeric=True)\n",
        "sns.distplot(train_set.op_status)"
      ],
      "execution_count": 0,
      "outputs": [
        {
          "output_type": "stream",
          "text": [
            "/home/ankit/anaconda3/lib/python3.7/site-packages/ipykernel_launcher.py:4: FutureWarning: convert_objects is deprecated.  To re-infer data dtypes for object columns, use DataFrame.infer_objects()\n",
            "For all other conversions use the data-type specific converters pd.to_datetime, pd.to_timedelta and pd.to_numeric.\n",
            "  after removing the cwd from sys.path.\n",
            "/home/ankit/anaconda3/lib/python3.7/site-packages/scipy/stats/stats.py:1713: FutureWarning: Using a non-tuple sequence for multidimensional indexing is deprecated; use `arr[tuple(seq)]` instead of `arr[seq]`. In the future this will be interpreted as an array index, `arr[np.array(seq)]`, which will result either in an error or a different result.\n",
            "  return np.add.reduce(sorted[indexer] * weights, axis=axis) / sumval\n",
            "/home/ankit/anaconda3/lib/python3.7/site-packages/numpy/lib/histograms.py:754: RuntimeWarning: invalid value encountered in greater_equal\n",
            "  keep = (tmp_a >= first_edge)\n",
            "/home/ankit/anaconda3/lib/python3.7/site-packages/numpy/lib/histograms.py:755: RuntimeWarning: invalid value encountered in less_equal\n",
            "  keep &= (tmp_a <= last_edge)\n",
            "/home/ankit/anaconda3/lib/python3.7/site-packages/statsmodels/nonparametric/kde.py:448: RuntimeWarning: invalid value encountered in greater\n",
            "  X = X[np.logical_and(X > clip[0], X < clip[1])] # won't work for two columns.\n",
            "/home/ankit/anaconda3/lib/python3.7/site-packages/statsmodels/nonparametric/kde.py:448: RuntimeWarning: invalid value encountered in less\n",
            "  X = X[np.logical_and(X > clip[0], X < clip[1])] # won't work for two columns.\n"
          ],
          "name": "stderr"
        },
        {
          "output_type": "execute_result",
          "data": {
            "text/plain": [
              "<matplotlib.axes._subplots.AxesSubplot at 0x7f04e6e560b8>"
            ]
          },
          "metadata": {
            "tags": []
          },
          "execution_count": 45
        },
        {
          "output_type": "display_data",
          "data": {
            "image/png": "[encoded data removed]",
            "text/plain": [
              "<Figure size 432x288 with 1 Axes>"
            ]
          },
          "metadata": {
            "tags": [],
            "needs_background": "light"
          }
        }
      ]
    },
    {
      "cell_type": "code",
      "metadata": {
        "id": "u191_tneih2k",
        "colab_type": "code",
        "colab": {}
      },
      "source": [
        "#dealing the missing data\n",
        "train_set.fillna(train_set.mean(), inplace=True)\n",
        "#extracting features from dataframe\n",
        "X = train_set.iloc[:, 0:8].values\n",
        "y = train_set.iloc[:, 8].values"
      ],
      "execution_count": 0,
      "outputs": []
    },
    {
      "cell_type": "code",
      "metadata": {
        "id": "ETgjjWwdih2o",
        "colab_type": "code",
        "colab": {},
        "outputId": "2a5dfde2-a5c1-461f-ccaf-e8fb23266633"
      },
      "source": [
        "train_set.describe()"
      ],
      "execution_count": 0,
      "outputs": [
        {
          "output_type": "execute_result",
          "data": {
            "text/html": [
              "<div>\n",
              "<style scoped>\n",
              "    .dataframe tbody tr th:only-of-type {\n",
              "        vertical-align: middle;\n",
              "    }\n",
              "\n",
              "    .dataframe tbody tr th {\n",
              "        vertical-align: top;\n",
              "    }\n",
              "\n",
              "    .dataframe thead th {\n",
              "        text-align: right;\n",
              "    }\n",
              "</style>\n",
              "<table border=\"1\" class=\"dataframe\">\n",
              "  <thead>\n",
              "    <tr style=\"text-align: right;\">\n",
              "      <th></th>\n",
              "      <th>ID</th>\n",
              "      <th>op_status</th>\n",
              "      <th>total_funding_usd</th>\n",
              "      <th>funding_rounds</th>\n",
              "      <th>num_investors</th>\n",
              "      <th>funding_duration</th>\n",
              "      <th>first_funding_utc</th>\n",
              "      <th>last_funding_utc</th>\n",
              "      <th>successful_investment</th>\n",
              "      <th>Unnamed: 19</th>\n",
              "      <th>Unnamed: 22</th>\n",
              "      <th>Unnamed: 23</th>\n",
              "      <th>Unnamed: 24</th>\n",
              "      <th>Unnamed: 25</th>\n",
              "      <th>Unnamed: 26</th>\n",
              "    </tr>\n",
              "  </thead>\n",
              "  <tbody>\n",
              "    <tr>\n",
              "      <th>count</th>\n",
              "      <td>40213.000000</td>\n",
              "      <td>40213.000000</td>\n",
              "      <td>4.021300e+04</td>\n",
              "      <td>40213.000000</td>\n",
              "      <td>40213.000000</td>\n",
              "      <td>40213.000000</td>\n",
              "      <td>40213.000000</td>\n",
              "      <td>40213.000000</td>\n",
              "      <td>4.021300e+04</td>\n",
              "      <td>40213.000000</td>\n",
              "      <td>40213.0</td>\n",
              "      <td>40213.0</td>\n",
              "      <td>40213.0</td>\n",
              "      <td>40213.0</td>\n",
              "      <td>40213.0</td>\n",
              "    </tr>\n",
              "    <tr>\n",
              "      <th>mean</th>\n",
              "      <td>20106.000000</td>\n",
              "      <td>1.900945</td>\n",
              "      <td>2.267153e+07</td>\n",
              "      <td>1.945713</td>\n",
              "      <td>3.767371</td>\n",
              "      <td>436.388133</td>\n",
              "      <td>14988.932781</td>\n",
              "      <td>15425.800607</td>\n",
              "      <td>9.224409e+02</td>\n",
              "      <td>1.000000</td>\n",
              "      <td>13.0</td>\n",
              "      <td>838.0</td>\n",
              "      <td>15553.0</td>\n",
              "      <td>16391.0</td>\n",
              "      <td>0.0</td>\n",
              "    </tr>\n",
              "    <tr>\n",
              "      <th>std</th>\n",
              "      <td>11608.637524</td>\n",
              "      <td>0.707256</td>\n",
              "      <td>1.976441e+08</td>\n",
              "      <td>5.350085</td>\n",
              "      <td>4.899507</td>\n",
              "      <td>779.468602</td>\n",
              "      <td>1410.886335</td>\n",
              "      <td>1331.172263</td>\n",
              "      <td>1.848059e+05</td>\n",
              "      <td>0.012215</td>\n",
              "      <td>0.0</td>\n",
              "      <td>0.0</td>\n",
              "      <td>0.0</td>\n",
              "      <td>0.0</td>\n",
              "      <td>0.0</td>\n",
              "    </tr>\n",
              "    <tr>\n",
              "      <th>min</th>\n",
              "      <td>0.000000</td>\n",
              "      <td>0.000000</td>\n",
              "      <td>2.000000e+00</td>\n",
              "      <td>1.000000</td>\n",
              "      <td>0.000000</td>\n",
              "      <td>0.000000</td>\n",
              "      <td>0.000000</td>\n",
              "      <td>7358.000000</td>\n",
              "      <td>0.000000e+00</td>\n",
              "      <td>0.000000</td>\n",
              "      <td>13.0</td>\n",
              "      <td>838.0</td>\n",
              "      <td>15553.0</td>\n",
              "      <td>16391.0</td>\n",
              "      <td>0.0</td>\n",
              "    </tr>\n",
              "    <tr>\n",
              "      <th>25%</th>\n",
              "      <td>10053.000000</td>\n",
              "      <td>2.000000</td>\n",
              "      <td>1.000000e+06</td>\n",
              "      <td>1.000000</td>\n",
              "      <td>1.000000</td>\n",
              "      <td>0.000000</td>\n",
              "      <td>14096.000000</td>\n",
              "      <td>14868.000000</td>\n",
              "      <td>0.000000e+00</td>\n",
              "      <td>1.000000</td>\n",
              "      <td>13.0</td>\n",
              "      <td>838.0</td>\n",
              "      <td>15553.0</td>\n",
              "      <td>16391.0</td>\n",
              "      <td>0.0</td>\n",
              "    </tr>\n",
              "    <tr>\n",
              "      <th>50%</th>\n",
              "      <td>20106.000000</td>\n",
              "      <td>2.000000</td>\n",
              "      <td>7.250000e+06</td>\n",
              "      <td>1.000000</td>\n",
              "      <td>2.000000</td>\n",
              "      <td>0.000000</td>\n",
              "      <td>15400.000000</td>\n",
              "      <td>15893.000000</td>\n",
              "      <td>0.000000e+00</td>\n",
              "      <td>1.000000</td>\n",
              "      <td>13.0</td>\n",
              "      <td>838.0</td>\n",
              "      <td>15553.0</td>\n",
              "      <td>16391.0</td>\n",
              "      <td>0.0</td>\n",
              "    </tr>\n",
              "    <tr>\n",
              "      <th>75%</th>\n",
              "      <td>30159.000000</td>\n",
              "      <td>2.000000</td>\n",
              "      <td>2.267153e+07</td>\n",
              "      <td>2.000000</td>\n",
              "      <td>4.000000</td>\n",
              "      <td>615.000000</td>\n",
              "      <td>16071.000000</td>\n",
              "      <td>16391.000000</td>\n",
              "      <td>0.000000e+00</td>\n",
              "      <td>1.000000</td>\n",
              "      <td>13.0</td>\n",
              "      <td>838.0</td>\n",
              "      <td>15553.0</td>\n",
              "      <td>16391.0</td>\n",
              "      <td>0.0</td>\n",
              "    </tr>\n",
              "    <tr>\n",
              "      <th>max</th>\n",
              "      <td>40212.000000</td>\n",
              "      <td>3.000000</td>\n",
              "      <td>3.007950e+10</td>\n",
              "      <td>1032.000000</td>\n",
              "      <td>64.000000</td>\n",
              "      <td>36994.000000</td>\n",
              "      <td>16773.000000</td>\n",
              "      <td>53294.000000</td>\n",
              "      <td>3.705945e+07</td>\n",
              "      <td>3.000000</td>\n",
              "      <td>13.0</td>\n",
              "      <td>838.0</td>\n",
              "      <td>15553.0</td>\n",
              "      <td>16391.0</td>\n",
              "      <td>0.0</td>\n",
              "    </tr>\n",
              "  </tbody>\n",
              "</table>\n",
              "</div>"
            ],
            "text/plain": [
              "                 ID     op_status  total_funding_usd  funding_rounds  \\\n",
              "count  40213.000000  40213.000000       4.021300e+04    40213.000000   \n",
              "mean   20106.000000      1.900945       2.267153e+07        1.945713   \n",
              "std    11608.637524      0.707256       1.976441e+08        5.350085   \n",
              "min        0.000000      0.000000       2.000000e+00        1.000000   \n",
              "25%    10053.000000      2.000000       1.000000e+06        1.000000   \n",
              "50%    20106.000000      2.000000       7.250000e+06        1.000000   \n",
              "75%    30159.000000      2.000000       2.267153e+07        2.000000   \n",
              "max    40212.000000      3.000000       3.007950e+10     1032.000000   \n",
              "\n",
              "       num_investors  funding_duration  first_funding_utc  last_funding_utc  \\\n",
              "count   40213.000000      40213.000000       40213.000000      40213.000000   \n",
              "mean        3.767371        436.388133       14988.932781      15425.800607   \n",
              "std         4.899507        779.468602        1410.886335       1331.172263   \n",
              "min         0.000000          0.000000           0.000000       7358.000000   \n",
              "25%         1.000000          0.000000       14096.000000      14868.000000   \n",
              "50%         2.000000          0.000000       15400.000000      15893.000000   \n",
              "75%         4.000000        615.000000       16071.000000      16391.000000   \n",
              "max        64.000000      36994.000000       16773.000000      53294.000000   \n",
              "\n",
              "       successful_investment   Unnamed: 19  Unnamed: 22  Unnamed: 23  \\\n",
              "count           4.021300e+04  40213.000000      40213.0      40213.0   \n",
              "mean            9.224409e+02      1.000000         13.0        838.0   \n",
              "std             1.848059e+05      0.012215          0.0          0.0   \n",
              "min             0.000000e+00      0.000000         13.0        838.0   \n",
              "25%             0.000000e+00      1.000000         13.0        838.0   \n",
              "50%             0.000000e+00      1.000000         13.0        838.0   \n",
              "75%             0.000000e+00      1.000000         13.0        838.0   \n",
              "max             3.705945e+07      3.000000         13.0        838.0   \n",
              "\n",
              "       Unnamed: 24  Unnamed: 25  Unnamed: 26  \n",
              "count      40213.0      40213.0      40213.0  \n",
              "mean       15553.0      16391.0          0.0  \n",
              "std            0.0          0.0          0.0  \n",
              "min        15553.0      16391.0          0.0  \n",
              "25%        15553.0      16391.0          0.0  \n",
              "50%        15553.0      16391.0          0.0  \n",
              "75%        15553.0      16391.0          0.0  \n",
              "max        15553.0      16391.0          0.0  "
            ]
          },
          "metadata": {
            "tags": []
          },
          "execution_count": 12
        }
      ]
    },
    {
      "cell_type": "markdown",
      "metadata": {
        "id": "xhU4DczMih2s",
        "colab_type": "text"
      },
      "source": [
        "## Building Model  "
      ]
    },
    {
      "cell_type": "code",
      "metadata": {
        "id": "Cp4fPxr1ih2u",
        "colab_type": "code",
        "colab": {}
      },
      "source": [
        "# splitting the dataset into test_set and train_set\n",
        "from sklearn.model_selection import train_test_split\n",
        "X_train, X_test, y_train, y_test = train_test_split(X, y, test_size = 0.2, random_state = 7)\n",
        "#building the binary-classifier\n",
        "model = XGBClassifier(max_depth=3,learning_rate=0.1,seed=1)\n",
        "model.fit(X_train,y_train,verbose=True)\n",
        "#predicting values of test-set\n",
        "y_pred=model.predict(X_test)\n",
        "#calculating accuracy\n",
        "accuracy=accuracy_score(y_test,y_pred)"
      ],
      "execution_count": 0,
      "outputs": []
    },
    {
      "cell_type": "code",
      "metadata": {
        "id": "0WkV1ERaih2y",
        "colab_type": "code",
        "colab": {},
        "outputId": "497d4ebe-dec3-4eae-f303-9ba6ae0513bb"
      },
      "source": [
        "print(accuracy)"
      ],
      "execution_count": 0,
      "outputs": [
        {
          "output_type": "stream",
          "text": [
            "0.999875668282979\n"
          ],
          "name": "stdout"
        }
      ]
    },
    {
      "cell_type": "markdown",
      "metadata": {
        "id": "_b4uBxmTih23",
        "colab_type": "text"
      },
      "source": [
        "# **Preparing the Test set for predictions**"
      ]
    },
    {
      "cell_type": "code",
      "metadata": {
        "id": "hOA05Mrfih24",
        "colab_type": "code",
        "colab": {},
        "outputId": "9dca2a40-06e8-4226-dee3-4a982fb01854"
      },
      "source": [
        "test_dataset = pd.read_csv('test.csv')\n",
        "test_dataset = test_dataset.drop(columns = ['comp_name','website','founded_on','first_funding_date','last_funding_date'])\n",
        "test_dataset = test_dataset.drop(columns = ['domain','hq_country_code','hq_state_code','hq_region','hq_city'])\n",
        "test_dataset = test_dataset.replace({'closed':0,'ipo':1,'operating':2,'acquired':3})\n",
        "test_dataset = test_dataset.convert_objects(convert_numeric=True)\n",
        "X1 = test_dataset.iloc[:, 0:8].values"
      ],
      "execution_count": 0,
      "outputs": [
        {
          "output_type": "stream",
          "text": [
            "/home/ankit/anaconda3/lib/python3.7/site-packages/ipykernel_launcher.py:5: FutureWarning: convert_objects is deprecated.  To re-infer data dtypes for object columns, use DataFrame.infer_objects()\n",
            "For all other conversions use the data-type specific converters pd.to_datetime, pd.to_timedelta and pd.to_numeric.\n",
            "  \"\"\"\n"
          ],
          "name": "stderr"
        }
      ]
    },
    {
      "cell_type": "markdown",
      "metadata": {
        "id": "FfvN_eC3e1ag",
        "colab_type": "text"
      },
      "source": [
        "# **Predictions**"
      ]
    },
    {
      "cell_type": "code",
      "metadata": {
        "id": "Y6Tyy8pQe9q1",
        "colab_type": "code",
        "colab": {}
      },
      "source": [
        "y_res=model.predict(X1)"
      ],
      "execution_count": 0,
      "outputs": []
    },
    {
      "cell_type": "markdown",
      "metadata": {
        "id": "pitiP08Cih28",
        "colab_type": "text"
      },
      "source": [
        "# Making the submission csv file"
      ]
    },
    {
      "cell_type": "code",
      "metadata": {
        "id": "An3G6Ey9ih29",
        "colab_type": "code",
        "colab": {}
      },
      "source": [
        "id_vec = np.array([   i   for i in range(0, y_res.shape[0])])\n",
        "y_res = np.concatenate([np.expand_dims(id_vec, axis=1), np.expand_dims(y_res, axis=1)], axis=1)\n",
        "#print(y_pred.shape)\n",
        "predict = pd.DataFrame(data=y_res, columns=['ID', 'successful_investment'])\n",
        "predict.to_csv(\"./answer.csv\", index=False, header=True)"
      ],
      "execution_count": 0,
      "outputs": []
    },
    {
      "cell_type": "code",
      "metadata": {
        "id": "CBHTwTFZih3B",
        "colab_type": "code",
        "colab": {},
        "outputId": "db21a6ad-cd2f-4503-9b07-fb7a55367b29"
      },
      "source": [
        "predict.describe()"
      ],
      "execution_count": 0,
      "outputs": [
        {
          "output_type": "execute_result",
          "data": {
            "text/html": [
              "<div>\n",
              "<style scoped>\n",
              "    .dataframe tbody tr th:only-of-type {\n",
              "        vertical-align: middle;\n",
              "    }\n",
              "\n",
              "    .dataframe tbody tr th {\n",
              "        vertical-align: top;\n",
              "    }\n",
              "\n",
              "    .dataframe thead th {\n",
              "        text-align: right;\n",
              "    }\n",
              "</style>\n",
              "<table border=\"1\" class=\"dataframe\">\n",
              "  <thead>\n",
              "    <tr style=\"text-align: right;\">\n",
              "      <th></th>\n",
              "      <th>ID</th>\n",
              "      <th>successful_investment</th>\n",
              "    </tr>\n",
              "  </thead>\n",
              "  <tbody>\n",
              "    <tr>\n",
              "      <th>count</th>\n",
              "      <td>4469.000000</td>\n",
              "      <td>4469.000000</td>\n",
              "    </tr>\n",
              "    <tr>\n",
              "      <th>mean</th>\n",
              "      <td>2234.000000</td>\n",
              "      <td>0.132021</td>\n",
              "    </tr>\n",
              "    <tr>\n",
              "      <th>std</th>\n",
              "      <td>1290.233506</td>\n",
              "      <td>0.338551</td>\n",
              "    </tr>\n",
              "    <tr>\n",
              "      <th>min</th>\n",
              "      <td>0.000000</td>\n",
              "      <td>0.000000</td>\n",
              "    </tr>\n",
              "    <tr>\n",
              "      <th>25%</th>\n",
              "      <td>1117.000000</td>\n",
              "      <td>0.000000</td>\n",
              "    </tr>\n",
              "    <tr>\n",
              "      <th>50%</th>\n",
              "      <td>2234.000000</td>\n",
              "      <td>0.000000</td>\n",
              "    </tr>\n",
              "    <tr>\n",
              "      <th>75%</th>\n",
              "      <td>3351.000000</td>\n",
              "      <td>0.000000</td>\n",
              "    </tr>\n",
              "    <tr>\n",
              "      <th>max</th>\n",
              "      <td>4468.000000</td>\n",
              "      <td>1.000000</td>\n",
              "    </tr>\n",
              "  </tbody>\n",
              "</table>\n",
              "</div>"
            ],
            "text/plain": [
              "                ID  successful_investment\n",
              "count  4469.000000            4469.000000\n",
              "mean   2234.000000               0.132021\n",
              "std    1290.233506               0.338551\n",
              "min       0.000000               0.000000\n",
              "25%    1117.000000               0.000000\n",
              "50%    2234.000000               0.000000\n",
              "75%    3351.000000               0.000000\n",
              "max    4468.000000               1.000000"
            ]
          },
          "metadata": {
            "tags": []
          },
          "execution_count": 50
        }
      ]
    },
    {
      "cell_type": "code",
      "metadata": {
        "id": "RcW9Vg-qih3G",
        "colab_type": "code",
        "colab": {},
        "outputId": "a99145d1-0429-46f9-8c11-b89d70fd08f6"
      },
      "source": [
        "predict.head()"
      ],
      "execution_count": 0,
      "outputs": [
        {
          "output_type": "execute_result",
          "data": {
            "text/html": [
              "<div>\n",
              "<style scoped>\n",
              "    .dataframe tbody tr th:only-of-type {\n",
              "        vertical-align: middle;\n",
              "    }\n",
              "\n",
              "    .dataframe tbody tr th {\n",
              "        vertical-align: top;\n",
              "    }\n",
              "\n",
              "    .dataframe thead th {\n",
              "        text-align: right;\n",
              "    }\n",
              "</style>\n",
              "<table border=\"1\" class=\"dataframe\">\n",
              "  <thead>\n",
              "    <tr style=\"text-align: right;\">\n",
              "      <th></th>\n",
              "      <th>ID</th>\n",
              "      <th>successful_investment</th>\n",
              "    </tr>\n",
              "  </thead>\n",
              "  <tbody>\n",
              "    <tr>\n",
              "      <th>0</th>\n",
              "      <td>0</td>\n",
              "      <td>0</td>\n",
              "    </tr>\n",
              "    <tr>\n",
              "      <th>1</th>\n",
              "      <td>1</td>\n",
              "      <td>0</td>\n",
              "    </tr>\n",
              "    <tr>\n",
              "      <th>2</th>\n",
              "      <td>2</td>\n",
              "      <td>1</td>\n",
              "    </tr>\n",
              "    <tr>\n",
              "      <th>3</th>\n",
              "      <td>3</td>\n",
              "      <td>1</td>\n",
              "    </tr>\n",
              "    <tr>\n",
              "      <th>4</th>\n",
              "      <td>4</td>\n",
              "      <td>0</td>\n",
              "    </tr>\n",
              "  </tbody>\n",
              "</table>\n",
              "</div>"
            ],
            "text/plain": [
              "   ID  successful_investment\n",
              "0   0                      0\n",
              "1   1                      0\n",
              "2   2                      1\n",
              "3   3                      1\n",
              "4   4                      0"
            ]
          },
          "metadata": {
            "tags": []
          },
          "execution_count": 52
        }
      ]
    },
    {
      "cell_type": "code",
      "metadata": {
        "id": "j1WsPvc7ih3K",
        "colab_type": "code",
        "colab": {},
        "outputId": "77b8a473-c79f-46bb-c84d-2b6c6ca50143"
      },
      "source": [
        "fig = plt.figure(figsize=(20,1))\n",
        "sns.countplot(y='successful_investment',data=predict);\n",
        "print(predict.successful_investment.value_counts())"
      ],
      "execution_count": 0,
      "outputs": [
        {
          "output_type": "stream",
          "text": [
            "0    3879\n",
            "1     590\n",
            "Name: successful_investment, dtype: int64\n"
          ],
          "name": "stdout"
        },
        {
          "output_type": "display_data",
          "data": {
            "image/png": "[encoded data removed]",
            "text/plain": [
              "<Figure size 1440x72 with 1 Axes>"
            ]
          },
          "metadata": {
            "tags": [],
            "needs_background": "light"
          }
        }
      ]
    }
  ]
}